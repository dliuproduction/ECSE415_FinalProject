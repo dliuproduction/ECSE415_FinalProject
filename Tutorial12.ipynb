{
 "cells": [
  {
   "cell_type": "markdown",
   "metadata": {},
   "source": [
    "# Digit Recognition using Deep Nets"
   ]
  },
  {
   "cell_type": "markdown",
   "metadata": {},
   "source": [
    "We will try a working example on how to train a convolutional neural net. "
   ]
  },
  {
   "cell_type": "markdown",
   "metadata": {},
   "source": [
    "Once again, we use the MNIST dataset (see Tutorial 11 for more info) as a well studied digit recognition problem."
   ]
  },
  {
   "cell_type": "markdown",
   "metadata": {},
   "source": [
    "## Caffe"
   ]
  },
  {
   "cell_type": "markdown",
   "metadata": {},
   "source": [
    "We use the Caffe framework (check out http://caffe.berkeleyvision.org/) as the API to create, train and test a convolutional neural net."
   ]
  },
  {
   "cell_type": "markdown",
   "metadata": {},
   "source": [
    "Caffe has has command line, Python, and MATLAB interfaces. We will be using the Caffe-python API, i.e. pycaffe, in this tutorial."
   ]
  },
  {
   "cell_type": "markdown",
   "metadata": {},
   "source": [
    "### Installing Caffe"
   ]
  },
  {
   "cell_type": "markdown",
   "metadata": {},
   "source": [
    "To install Caffe, check out the installation guide on http://caffe.berkeleyvision.org/installation.html."
   ]
  },
  {
   "cell_type": "markdown",
   "metadata": {},
   "source": [
    "The Caffe pre-built binaries for windows is available on https://github.com/BVLC/caffe/tree/windows.\n",
    "\n",
    "Download the pre-built binaries for \"Visual Studio 2015, CPU only, Python 3.5\" (if you have an nVidia GPU and CUDA 8.0 installed, you can download \"Visual Studio 2015, CUDA 8.0, Python 3.5\" binaries) and extract the arxive into a working directory (e.g. C:\\caffe\\).\n",
    "\n",
    "Add the \"bin\" subdirectory (in our example, C:\\caffe\\bin) to the system path. This subdirectory contains all the required libraries and the in addition to caffe.exe.\n",
    "\n",
    "Create an Environment Variable named \"PYTHONPATH\" (without the quotes) and set its value to the \"python\" subdirectory (i.e. C:\\caffe\\python).\n",
    "\n",
    "Also, install the following Python packages:\n",
    "\n",
    "conda install --yes numpy scipy matplotlib scikit-image pip six\n",
    "\n",
    "conda install --yes --channel willyd protobuf==3.1.0\n",
    "\n",
    "At this point, you should be able to \"import caffe\" on a Python terminal (or a jupyter notebook) without any errors."
   ]
  },
  {
   "cell_type": "code",
   "execution_count": 1,
   "metadata": {
    "collapsed": true
   },
   "outputs": [],
   "source": [
    "import caffe"
   ]
  },
  {
   "cell_type": "markdown",
   "metadata": {},
   "source": [
    "The Python interface – pycaffe – is the caffe module to load models, do forward and backward, handle IO, visualize networks, and even instrument model solving. All model data, derivatives, and parameters are exposed for reading and writing.\n",
    "\n",
    "caffe.Net is the central interface for loading, configuring, and running models. caffe.Classifier and caffe.Detector provide convenience interfaces for common tasks.\n",
    "\n",
    "caffe.SGDSolver exposes the solving interface.\n",
    "\n",
    "caffe.io handles input / output with preprocessing and protocol buffers.\n",
    "\n",
    "caffe.draw visualizes network architectures.\n",
    "\n",
    "Caffe blobs (caffe internal data structure) are exposed as numpy ndarrays for ease-of-use and efficiency."
   ]
  },
  {
   "cell_type": "markdown",
   "metadata": {},
   "source": [
    "### Setting up Python modules"
   ]
  },
  {
   "cell_type": "markdown",
   "metadata": {},
   "source": [
    "Set up the Python environment:"
   ]
  },
  {
   "cell_type": "code",
   "execution_count": 3,
   "metadata": {
    "collapsed": false
   },
   "outputs": [],
   "source": [
    "import numpy as np\n",
    "import csv\n",
    "import matplotlib.pyplot as plt\n",
    "from sklearn import cross_validation"
   ]
  },
  {
   "cell_type": "markdown",
   "metadata": {},
   "source": [
    "### Preparing Data"
   ]
  },
  {
   "cell_type": "markdown",
   "metadata": {},
   "source": [
    "Data enters Caffe through data layers: they lie at the bottom of nets. Data can come from efficient databases (LevelDB or LMDB), directly from memory, or from files on disk in HDF5 or common image formats.\n",
    "\n",
    "Check out http://caffe.berkeleyvision.org/tutorial/layers.html for more info on each Data Layer.\n",
    "\n",
    "To load data directly from memory, we should use the Memory Data Layer. This requires a source of contiguous data as a 4D row major array, which is read one batch-sized chunk at a time. \n",
    "\n",
    "To pass the data to the network, we should call net.set_input_arrays(imgData, labels); assuming that imgData is a (Nx1x28x28) and labels is a (Nx1x1x1) numpy float32 arrays.\n",
    "\n",
    "So, let's write a helper class to load the MNIST training csv file and to split the training set (42000 training entries) into a training (90%) and a validation set (10%)."
   ]
  },
  {
   "cell_type": "code",
   "execution_count": 4,
   "metadata": {
    "collapsed": false
   },
   "outputs": [],
   "source": [
    "# A helper class to load the MNIST train/test data/label and to visualize them\n",
    "class mnist:\n",
    "    # We'll do everything in the class constructor routine\n",
    "    # basedirectory: The directory containing train.csv\n",
    "    def __init__(self,basedirectory):\n",
    "        # our prior knowledge\n",
    "        self.height = 28\n",
    "        self.width = 28\n",
    "        self.channels = 1\n",
    "        \n",
    "        # Read the whole csv file        \n",
    "        with open(basedirectory+'train.csv', 'r') as csv_file:\n",
    "            # read and discard the csv header row (first line)\n",
    "            next(csv_file)\n",
    "            # create a Python CSV object\n",
    "            reader = csv.reader(csv_file)\n",
    "            # read the whole csv into a single list\n",
    "            csvdata = list(reader)\n",
    "            # number of rows\n",
    "            row_count = len(csvdata)\n",
    "            \n",
    "        # Create 4D imgData/labels numpy arrays for the training set\n",
    "        # It's better to know the number of data samples \n",
    "        # before creating numpy arrays to avoid multiple memory copying\n",
    "        imgData = np.zeros((row_count,self.channels,self.height,self.width),dtype='float32')\n",
    "        labels = np.zeros((row_count,1,1,1),dtype='float32')\n",
    "        \n",
    "        for n in range(row_count):            \n",
    "            # get the digit label\n",
    "            labels[n,0,0,0] = csvdata[n][0]            \n",
    "            # read and reshape the digit image\n",
    "            pixels = csvdata[n][1:]\n",
    "            # normalize the pixel intensities between [0,1]\n",
    "            img = np.array(pixels, dtype='float32')/255.\n",
    "            imgData[n,:,:,:] = img.reshape(self.channels,self.height,self.width)  \n",
    "        \n",
    "        # Split the training data into training and validation sets\n",
    "        # We'll use the cross_validation from the sklearn module\n",
    "        Xtrain,Xval,ytrain,yval = cross_validation.train_test_split(imgData,labels,test_size=0.1)\n",
    "        # make the data public\n",
    "        self.train_imgData = Xtrain\n",
    "        self.train_labels = ytrain\n",
    "        self.Ntrain = Xtrain.shape[0]\n",
    "        self.val_imgData = Xval\n",
    "        self.val_labels = yval\n",
    "        self.Nval = Xval.shape[0]\n",
    "        \n",
    "        print(\"train_imgData.shape: \", self.train_imgData.shape)\n",
    "        print(\"train_labels.shape:  \", self.train_labels.shape)\n",
    "        print(\"val_imgData.shape:   \", self.val_imgData.shape)\n",
    "        print(\"val_labels.shape: \", self.val_labels.shape)"
   ]
  },
  {
   "cell_type": "code",
   "execution_count": 5,
   "metadata": {
    "collapsed": false
   },
   "outputs": [
    {
     "name": "stdout",
     "output_type": "stream",
     "text": [
      "train_imgData.shape:  (37800, 1, 28, 28)\n",
      "train_labels.shape:   (37800, 1, 1, 1)\n",
      "val_imgData.shape:    (4200, 1, 28, 28)\n",
      "val_labels.shape:  (4200, 1, 1, 1)\n"
     ]
    }
   ],
   "source": [
    "# Load the MNIST dataset\n",
    "# train_imgData and val_imgData are 4-D (Nx1x28x28) numpy arrays containing image data\n",
    "# train_labels and val_labelsval are 4-D (Nx1x1x1) numpy arrays containing digit labels\n",
    "Dataset = mnist('./')"
   ]
  },
  {
   "cell_type": "markdown",
   "metadata": {},
   "source": [
    "### Creating the net"
   ]
  },
  {
   "cell_type": "markdown",
   "metadata": {},
   "source": [
    "To create a Caffe model you need to define the model architecture in a protocol buffer definition file (a .prototxt file). The layers might be Data layers, Convolutional layers, Fully Connected layers, Pooling layers, Activation layers, Loss layers and utility layers.\n",
    "\n",
    "In the net prototxt file, each layer is be named, its parameters are set and the layer's input/output are named too.\n",
    "\n",
    "\n",
    "Now let's make a variant of LeNet, the classic 1989 convnet architecture."
   ]
  },
  {
   "cell_type": "markdown",
   "metadata": {},
   "source": [
    "![title](lenet_architecture.png)"
   ]
  },
  {
   "cell_type": "markdown",
   "metadata": {},
   "source": [
    "We start by creating the net. We'll write the net in a succinct and natural way as Python code that serializes to Caffe's protobuf model format. Note that we can also manually create and write to the prototxt file directly using a text editor."
   ]
  },
  {
   "cell_type": "markdown",
   "metadata": {},
   "source": [
    "### Making Prototxt Nets with Python"
   ]
  },
  {
   "cell_type": "code",
   "execution_count": 6,
   "metadata": {
    "collapsed": false
   },
   "outputs": [],
   "source": [
    "from caffe import layers as L\n",
    "from caffe import params as P\n",
    "\n",
    "# A function to create a write the net prototxt\n",
    "def lenet(batch_size):\n",
    "    # NetSpec is a helper class in pycaffe to make Prototxt nets \n",
    "    n = caffe.NetSpec()    \n",
    "    \n",
    "    # The data layer. We use a MemoryData layer to read data directly from memory\n",
    "    n.imgdata, n.label = L.MemoryData(batch_size=batch_size,channels=Dataset.channels,\n",
    "                                      height=Dataset.height,width=Dataset.width,ntop=2)\n",
    "    \n",
    "    n.conv1 = L.Convolution(n.imgdata, kernel_size=5, num_output=20, weight_filler=dict(type='xavier'))\n",
    "    n.pool1 = L.Pooling(n.conv1, kernel_size=2, stride=2, pool=P.Pooling.MAX)\n",
    "    n.conv2 = L.Convolution(n.pool1, kernel_size=5, num_output=50, weight_filler=dict(type='xavier'))\n",
    "    n.pool2 = L.Pooling(n.conv2, kernel_size=2, stride=2, pool=P.Pooling.MAX)\n",
    "    n.fc1 =   L.InnerProduct(n.pool2, num_output=500, weight_filler=dict(type='xavier'))\n",
    "    n.relu1 = L.ReLU(n.fc1, in_place=True)\n",
    "    n.score = L.InnerProduct(n.relu1, num_output=10, weight_filler=dict(type='xavier'))\n",
    "    n.loss =  L.SoftmaxWithLoss(n.score, n.label)\n",
    "    \n",
    "    return n.to_proto()\n",
    "    \n",
    "# Create a net prototxt for training lenet_train.prototxt   \n",
    "with open('./lenet_train.prototxt', 'w') as f:\n",
    "    f.write(str(lenet(40)))\n",
    "\n",
    "# Create another net prototxt for testing lenet_test.prototxt       \n",
    "with open('./lenet_test.prototxt', 'w') as f:\n",
    "    f.write(str(lenet(42)))"
   ]
  },
  {
   "cell_type": "markdown",
   "metadata": {},
   "source": [
    "The net has been written to disk in a more verbose but human-readable serialization format using Google's protobuf library. You can read, write, and modify this description directly. \n",
    "\n",
    "Let's take a look at the net prototxt."
   ]
  },
  {
   "cell_type": "code",
   "execution_count": 7,
   "metadata": {
    "collapsed": false
   },
   "outputs": [
    {
     "name": "stdout",
     "output_type": "stream",
     "text": [
      "layer {\n",
      "  name: \"imgdata\"\n",
      "  type: \"MemoryData\"\n",
      "  top: \"imgdata\"\n",
      "  top: \"label\"\n",
      "  memory_data_param {\n",
      "    batch_size: 40\n",
      "    channels: 1\n",
      "    height: 28\n",
      "    width: 28\n",
      "  }\n",
      "}\n",
      "layer {\n",
      "  name: \"conv1\"\n",
      "  type: \"Convolution\"\n",
      "  bottom: \"imgdata\"\n",
      "  top: \"conv1\"\n",
      "  convolution_param {\n",
      "    num_output: 20\n",
      "    kernel_size: 5\n",
      "    weight_filler {\n",
      "      type: \"xavier\"\n",
      "    }\n",
      "  }\n",
      "}\n",
      "layer {\n",
      "  name: \"pool1\"\n",
      "  type: \"Pooling\"\n",
      "  bottom: \"conv1\"\n",
      "  top: \"pool1\"\n",
      "  pooling_param {\n",
      "    pool: MAX\n",
      "    kernel_size: 2\n",
      "    stride: 2\n",
      "  }\n",
      "}\n",
      "layer {\n",
      "  name: \"conv2\"\n",
      "  type: \"Convolution\"\n",
      "  bottom: \"pool1\"\n",
      "  top: \"conv2\"\n",
      "  convolution_param {\n",
      "    num_output: 50\n",
      "    kernel_size: 5\n",
      "    weight_filler {\n",
      "      type: \"xavier\"\n",
      "    }\n",
      "  }\n",
      "}\n",
      "layer {\n",
      "  name: \"pool2\"\n",
      "  type: \"Pooling\"\n",
      "  bottom: \"conv2\"\n",
      "  top: \"pool2\"\n",
      "  pooling_param {\n",
      "    pool: MAX\n",
      "    kernel_size: 2\n",
      "    stride: 2\n",
      "  }\n",
      "}\n",
      "layer {\n",
      "  name: \"fc1\"\n",
      "  type: \"InnerProduct\"\n",
      "  bottom: \"pool2\"\n",
      "  top: \"fc1\"\n",
      "  inner_product_param {\n",
      "    num_output: 500\n",
      "    weight_filler {\n",
      "      type: \"xavier\"\n",
      "    }\n",
      "  }\n",
      "}\n",
      "layer {\n",
      "  name: \"relu1\"\n",
      "  type: \"ReLU\"\n",
      "  bottom: \"fc1\"\n",
      "  top: \"fc1\"\n",
      "}\n",
      "layer {\n",
      "  name: \"score\"\n",
      "  type: \"InnerProduct\"\n",
      "  bottom: \"fc1\"\n",
      "  top: \"score\"\n",
      "  inner_product_param {\n",
      "    num_output: 10\n",
      "    weight_filler {\n",
      "      type: \"xavier\"\n",
      "    }\n",
      "  }\n",
      "}\n",
      "layer {\n",
      "  name: \"loss\"\n",
      "  type: \"SoftmaxWithLoss\"\n",
      "  bottom: \"score\"\n",
      "  bottom: \"label\"\n",
      "  top: \"loss\"\n",
      "}\n",
      "\n"
     ]
    }
   ],
   "source": [
    "f = open('lenet_train.prototxt', 'r')\n",
    "print (f.read())\n",
    "f.close()"
   ]
  },
  {
   "cell_type": "markdown",
   "metadata": {},
   "source": [
    "In addition to the net prototxt, we need another external file to help out.\n",
    "\n",
    "We call this the solver prototxt, which defines the learning parameters."
   ]
  },
  {
   "cell_type": "code",
   "execution_count": 8,
   "metadata": {
    "collapsed": false
   },
   "outputs": [
    {
     "name": "stdout",
     "output_type": "stream",
     "text": [
      "# The train/test net protocol buffer definition\n",
      "train_net: \"lenet_train.prototxt\"\n",
      "test_net: \"lenet_test.prototxt\"\n",
      "\n",
      "# test_iter specifies how many forward passes the test should carry out.\n",
      "# In the case of MNIST, we have test batch size 42 and 100 test iterations,\n",
      "# covering the full 4200 validation images.\n",
      "test_iter: 100\n",
      "# Carry out testing every 500 training iterations.\n",
      "test_interval: 500\n",
      "\n",
      "# The base learning rate, momentum and the weight decay of the network.\n",
      "base_lr: 0.01\n",
      "momentum: 0.9\n",
      "weight_decay: 0.0005\n",
      "# The learning rate policy\n",
      "lr_policy: \"inv\"\n",
      "gamma: 0.0001\n",
      "power: 0.75\n",
      "\n",
      "# The maximum number of iterations\n",
      "max_iter: 10000\n",
      "\n",
      "# solver mode: CPU or GPU\n",
      "solver_mode: CPU\n",
      "\n"
     ]
    }
   ],
   "source": [
    "f = open('lenet_solver.prototxt', 'r')\n",
    "print (f.read())\n",
    "f.close()"
   ]
  },
  {
   "cell_type": "markdown",
   "metadata": {},
   "source": [
    "### Solver"
   ]
  },
  {
   "cell_type": "markdown",
   "metadata": {},
   "source": [
    "Let's pick a device (CPU, GPU0, GPU1, ...) and load the solver. \n",
    "\n",
    "We'll use Stochastic Gradient Descend (SGD) with momentum, but other methods are also available."
   ]
  },
  {
   "cell_type": "code",
   "execution_count": 14,
   "metadata": {
    "collapsed": true
   },
   "outputs": [],
   "source": [
    "# Use the CPU\n",
    "# caffe.set_mode_gpu(), caffe.set_device(0) if using a GPU\n",
    "caffe.set_mode_cpu()\n",
    "\n",
    "### load the solver and create train and test nets\n",
    "solver = caffe.SGDSolver('lenet_solver.prototxt')\n",
    "\n",
    "# Set the memory data variables\n",
    "# train net\n",
    "solver.net.set_input_arrays(Dataset.train_imgData,Dataset.train_labels)\n",
    "# test net (there can be more than one)\n",
    "solver.test_nets[0].set_input_arrays(Dataset.val_imgData,Dataset.val_labels)"
   ]
  },
  {
   "cell_type": "markdown",
   "metadata": {
    "collapsed": true
   },
   "source": [
    "To get an idea of the architecture of our net, we can check the dimensions of the intermediate features (blobs) and parameters (these will also be useful to refer to when manipulating data later)"
   ]
  },
  {
   "cell_type": "code",
   "execution_count": 9,
   "metadata": {
    "collapsed": false
   },
   "outputs": [
    {
     "data": {
      "text/plain": [
       "[('imgdata', (40, 1, 28, 28)),\n",
       " ('label', (40,)),\n",
       " ('conv1', (40, 20, 24, 24)),\n",
       " ('pool1', (40, 20, 12, 12)),\n",
       " ('conv2', (40, 50, 8, 8)),\n",
       " ('pool2', (40, 50, 4, 4)),\n",
       " ('fc1', (40, 500)),\n",
       " ('score', (40, 10)),\n",
       " ('loss', ())]"
      ]
     },
     "execution_count": 9,
     "metadata": {},
     "output_type": "execute_result"
    }
   ],
   "source": [
    "# each output is (batch size, feature dim, spatial dim)\n",
    "[(k, v.data.shape) for k, v in solver.net.blobs.items()]"
   ]
  },
  {
   "cell_type": "code",
   "execution_count": 10,
   "metadata": {
    "collapsed": false
   },
   "outputs": [
    {
     "data": {
      "text/plain": [
       "[('conv1', (20, 1, 5, 5)),\n",
       " ('conv2', (50, 20, 5, 5)),\n",
       " ('fc1', (500, 800)),\n",
       " ('score', (10, 500))]"
      ]
     },
     "execution_count": 10,
     "metadata": {},
     "output_type": "execute_result"
    }
   ],
   "source": [
    "# just print the weight sizes (we'll omit the biases)\n",
    "[(k, v[0].data.shape) for k, v in solver.net.params.items()]"
   ]
  },
  {
   "cell_type": "markdown",
   "metadata": {
    "collapsed": true
   },
   "source": [
    "Before taking off, let's check that everything is loaded as we expect. We'll run a forward pass on the train and test nets and check that they contain our data."
   ]
  },
  {
   "cell_type": "code",
   "execution_count": 94,
   "metadata": {
    "collapsed": false
   },
   "outputs": [
    {
     "data": {
      "image/png": "[encoded data removed]",
      "text/plain": [
       "<matplotlib.figure.Figure at 0x1729f065320>"
      ]
     },
     "metadata": {},
     "output_type": "display_data"
    },
    {
     "name": "stdout",
     "output_type": "stream",
     "text": [
      "training labels:  [ 2.  1.  2.  3.  7.  5.  8.  5.]\n"
     ]
    },
    {
     "data": {
      "image/png": "[encoded data removed]",
      "text/plain": [
       "<matplotlib.figure.Figure at 0x17302b2bcc0>"
      ]
     },
     "metadata": {},
     "output_type": "display_data"
    },
    {
     "name": "stdout",
     "output_type": "stream",
     "text": [
      "test labels:  [ 7.  3.  4.  7.  5.  1.  2.  7.]\n"
     ]
    }
   ],
   "source": [
    "# Do a forward pass on the train net\n",
    "solver.net.forward()\n",
    "\n",
    "# Display the first 8 training images/labels\n",
    "plt.imshow(solver.net.blobs['imgdata'].data[0:8,0].transpose(1, 0, 2).reshape(28, 8*28),cmap='gray'),plt.xticks([]), plt.yticks([]),plt.show()\n",
    "print('training labels: ',solver.net.blobs['label'].data[0:8,0,0,0])\n",
    "\n",
    "# Do a forward pass on the test net\n",
    "solver.test_nets[0].forward()\n",
    "\n",
    "# Display the first 8 validation images/labels\n",
    "plt.imshow(solver.test_nets[0].blobs['imgdata'].data[0:8,0].transpose(1, 0, 2).reshape(28, 8*28),cmap='gray'),plt.xticks([]), plt.yticks([]),plt.show()\n",
    "print('test labels: ',solver.test_nets[0].blobs['label'].data[0:8,0,0,0])"
   ]
  },
  {
   "cell_type": "markdown",
   "metadata": {},
   "source": [
    "### Stepping the solver"
   ]
  },
  {
   "cell_type": "markdown",
   "metadata": {},
   "source": [
    "Let's take one step of (minibatch) SGD and see what happens."
   ]
  },
  {
   "cell_type": "code",
   "execution_count": 95,
   "metadata": {
    "collapsed": true
   },
   "outputs": [],
   "source": [
    "solver.step(1)"
   ]
  },
  {
   "cell_type": "markdown",
   "metadata": {},
   "source": [
    "Do we have gradients propagating through our filters? Let's see the updates to the first layer, shown here as a 4×5 grid of 5×5 filters."
   ]
  },
  {
   "cell_type": "code",
   "execution_count": 30,
   "metadata": {
    "collapsed": false
   },
   "outputs": [
    {
     "data": {
      "image/png": "[encoded data removed]",
      "text/plain": [
       "<matplotlib.figure.Figure at 0x225087424a8>"
      ]
     },
     "metadata": {},
     "output_type": "display_data"
    }
   ],
   "source": [
    "# Display the first training image\n",
    "plt.imshow(solver.net.params['conv1'][0].diff[:,0].reshape(4, 5, 5, 5).transpose(0, 2, 1, 3).reshape(4*5, 5*5),cmap='gray')\n",
    "plt.xticks([]), plt.yticks([])\n",
    "plt.show()"
   ]
  },
  {
   "cell_type": "markdown",
   "metadata": {},
   "source": [
    "Something is happening."
   ]
  },
  {
   "cell_type": "markdown",
   "metadata": {},
   "source": [
    "###  Writing a training loop"
   ]
  },
  {
   "cell_type": "markdown",
   "metadata": {},
   "source": [
    "Let's run the net for a while, keeping track of a few things as it goes. "
   ]
  },
  {
   "cell_type": "code",
   "execution_count": 15,
   "metadata": {
    "collapsed": false
   },
   "outputs": [
    {
     "name": "stdout",
     "output_type": "stream",
     "text": [
      "Iteration 0 testing...\n",
      "Iteration 25 testing...\n",
      "Iteration 50 testing...\n",
      "Iteration 75 testing...\n",
      "Iteration 100 testing...\n",
      "Iteration 125 testing...\n",
      "Iteration 150 testing...\n",
      "Iteration 175 testing...\n"
     ]
    }
   ],
   "source": [
    "# Number of training iterations\n",
    "niter = 200\n",
    "# Test interval\n",
    "test_interval = 25\n",
    "# losses and accuracies\n",
    "train_loss = np.zeros(niter)\n",
    "test_acc = np.zeros(int(np.ceil(niter / test_interval)))\n",
    "# We will also save the results on the first test batch\n",
    "output = np.zeros((niter, 8, 10))\n",
    "\n",
    "# the main solver loop\n",
    "for it in range(niter):\n",
    "    # A single SGD iteration (a minibatch) by Caffe\n",
    "    solver.step(1)  \n",
    "    \n",
    "    # store the train loss\n",
    "    train_loss[it] = solver.net.blobs['loss'].data\n",
    "    \n",
    "    # store the output on the first test batch\n",
    "    # (start the forward pass at conv1 to avoid loading new data)\n",
    "    solver.test_nets[0].forward(start='conv1')\n",
    "    output[it] = solver.test_nets[0].blobs['score'].data[:8]\n",
    "    \n",
    "    # run a full test every so often\n",
    "    if it % test_interval == 0:\n",
    "        print('Iteration', it, 'testing...')\n",
    "        correct = 0\n",
    "        # number of test iterations to perform\n",
    "        test_iter = 100\n",
    "        for test_it in range(test_iter):\n",
    "            # predict the digit label\n",
    "            solver.test_nets[0].forward()\n",
    "            # sum over all correct predictions\n",
    "            # solver.test_nets[0].blobs['score'].data returns the likelihood of the digit label\n",
    "            # solver.test_nets[0].blobs['score'].data.argmax(1) is the most probable label\n",
    "            # summation is over all the digits in a single test batch (=42)\n",
    "            correct += sum(solver.test_nets[0].blobs['score'].data.argmax(1)\n",
    "                           == solver.test_nets[0].blobs['label'].data[:,0,0,0])\n",
    "        # Compute the test accuracy (42 is the test batch size)\n",
    "        test_acc[it // test_interval] = correct / (test_iter*42)"
   ]
  },
  {
   "cell_type": "markdown",
   "metadata": {},
   "source": [
    "Let's plot the train loss and test accuracy."
   ]
  },
  {
   "cell_type": "code",
   "execution_count": 17,
   "metadata": {
    "collapsed": false
   },
   "outputs": [
    {
     "data": {
      "image/png": "[encoded data removed]",
      "text/plain": [
       "<matplotlib.figure.Figure at 0x2324d326d68>"
      ]
     },
     "metadata": {},
     "output_type": "display_data"
    },
    {
     "data": {
      "image/png": "[encoded data removed]",
      "text/plain": [
       "<matplotlib.figure.Figure at 0x2324d38f978>"
      ]
     },
     "metadata": {},
     "output_type": "display_data"
    }
   ],
   "source": [
    "plt.plot(np.arange(niter),train_loss)\n",
    "plt.xlabel('iteration')\n",
    "plt.ylabel('train loss')\n",
    "plt.show()\n",
    "\n",
    "plt.plot(test_interval * np.arange(len(test_acc)), test_acc, 'r')\n",
    "plt.xlabel('iteration')\n",
    "plt.ylabel('test accuracy')\n",
    "plt.title('Test Accuracy: {:.2f}'.format(test_acc[-1]))\n",
    "plt.show()"
   ]
  },
  {
   "cell_type": "markdown",
   "metadata": {},
   "source": [
    "The loss seems to have dropped quickly and coverged (except for stochasticity), while the accuracy rose correspondingly."
   ]
  },
  {
   "cell_type": "markdown",
   "metadata": {
    "collapsed": true
   },
   "source": [
    "Since we saved the results on the first test batch, we can watch how our prediction scores evolved. We'll plot time on the x axis and each possible label on the y, with lightness indicating confidence."
   ]
  },
  {
   "cell_type": "code",
   "execution_count": 19,
   "metadata": {
    "collapsed": false
   },
   "outputs": [
    {
     "data": {
      "image/png": "[encoded data removed]",
      "text/plain": [
       "<matplotlib.figure.Figure at 0x2324e3c5ba8>"
      ]
     },
     "metadata": {},
     "output_type": "display_data"
    },
    {
     "data": {
      "image/png": "[encoded data removed]",
      "text/plain": [
       "<matplotlib.figure.Figure at 0x2324e4210f0>"
      ]
     },
     "metadata": {},
     "output_type": "display_data"
    },
    {
     "data": {
      "image/png": "[encoded data removed]",
      "text/plain": [
       "<matplotlib.figure.Figure at 0x2324e3e95c0>"
      ]
     },
     "metadata": {},
     "output_type": "display_data"
    },
    {
     "data": {
      "image/png": "[encoded data removed]",
      "text/plain": [
       "<matplotlib.figure.Figure at 0x2324e4c7278>"
      ]
     },
     "metadata": {},
     "output_type": "display_data"
    },
    {
     "data": {
      "image/png": "[encoded data removed]",
      "text/plain": [
       "<matplotlib.figure.Figure at 0x2324e4927b8>"
      ]
     },
     "metadata": {},
     "output_type": "display_data"
    },
    {
     "data": {
      "image/png": "[encoded data removed]",
      "text/plain": [
       "<matplotlib.figure.Figure at 0x2324e55e390>"
      ]
     },
     "metadata": {},
     "output_type": "display_data"
    },
    {
     "data": {
      "image/png": "[encoded data removed]",
      "text/plain": [
       "<matplotlib.figure.Figure at 0x2324e440c18>"
      ]
     },
     "metadata": {},
     "output_type": "display_data"
    },
    {
     "data": {
      "image/png": "[encoded data removed]",
      "text/plain": [
       "<matplotlib.figure.Figure at 0x2324d39dc88>"
      ]
     },
     "metadata": {},
     "output_type": "display_data"
    },
    {
     "data": {
      "image/png": "[encoded data removed]",
      "text/plain": [
       "<matplotlib.figure.Figure at 0x2324d2e9828>"
      ]
     },
     "metadata": {},
     "output_type": "display_data"
    },
    {
     "data": {
      "image/png": "[encoded data removed]",
      "text/plain": [
       "<matplotlib.figure.Figure at 0x2324e565240>"
      ]
     },
     "metadata": {},
     "output_type": "display_data"
    },
    {
     "data": {
      "image/png": "[encoded data removed]",
      "text/plain": [
       "<matplotlib.figure.Figure at 0x2324c870208>"
      ]
     },
     "metadata": {},
     "output_type": "display_data"
    },
    {
     "data": {
      "image/png": "[encoded data removed]",
      "text/plain": [
       "<matplotlib.figure.Figure at 0x2324e40f5f8>"
      ]
     },
     "metadata": {},
     "output_type": "display_data"
    },
    {
     "data": {
      "image/png": "[encoded data removed]",
      "text/plain": [
       "<matplotlib.figure.Figure at 0x2324e4101d0>"
      ]
     },
     "metadata": {},
     "output_type": "display_data"
    },
    {
     "data": {
      "image/png": "[encoded data removed]",
      "text/plain": [
       "<matplotlib.figure.Figure at 0x2324c83d128>"
      ]
     },
     "metadata": {},
     "output_type": "display_data"
    },
    {
     "data": {
      "image/png": "[encoded data removed]",
      "text/plain": [
       "<matplotlib.figure.Figure at 0x2324e446e48>"
      ]
     },
     "metadata": {},
     "output_type": "display_data"
    },
    {
     "data": {
      "image/png": "[encoded data removed]",
      "text/plain": [
       "<matplotlib.figure.Figure at 0x2324e5b7518>"
      ]
     },
     "metadata": {},
     "output_type": "display_data"
    },
    {
     "data": {
      "image/png": "[encoded data removed]",
      "text/plain": [
       "<matplotlib.figure.Figure at 0x2324d3cdfd0>"
      ]
     },
     "metadata": {},
     "output_type": "display_data"
    },
    {
     "data": {
      "image/png": "[encoded data removed]",
      "text/plain": [
       "<matplotlib.figure.Figure at 0x2324d2483c8>"
      ]
     },
     "metadata": {},
     "output_type": "display_data"
    }
   ],
   "source": [
    "for i in range(8):\n",
    "    plt.figure(figsize=(2, 2))\n",
    "    plt.imshow(solver.test_nets[0].blobs['imgdata'].data[i, 0], cmap='gray')\n",
    "    plt.figure(figsize=(10, 2))\n",
    "    plt.imshow(output[:50, i].T, interpolation='nearest', cmap='gray')\n",
    "    plt.xlabel('iteration')\n",
    "    plt.ylabel('label')\n",
    "    plt.show()"
   ]
  },
  {
   "cell_type": "code",
   "execution_count": null,
   "metadata": {
    "collapsed": true
   },
   "outputs": [],
   "source": []
  }
 ],
 "metadata": {
  "anaconda-cloud": {},
  "kernelspec": {
   "display_name": "Python [conda root]",
   "language": "python",
   "name": "conda-root-py"
  },
  "language_info": {
   "codemirror_mode": {
    "name": "ipython",
    "version": 3
   },
   "file_extension": ".py",
   "mimetype": "text/x-python",
   "name": "python",
   "nbconvert_exporter": "python",
   "pygments_lexer": "ipython3",
   "version": "3.5.2"
  }
 },
 "nbformat": 4,
 "nbformat_minor": 1
}
