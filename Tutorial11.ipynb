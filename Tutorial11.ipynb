{
 "cells": [
  {
   "cell_type": "markdown",
   "metadata": {},
   "source": [
    "# Digit recognition"
   ]
  },
  {
   "cell_type": "markdown",
   "metadata": {},
   "source": [
    "We will try and compare a few machine learning classification algorithms on a well studied problem set. The MNIST dataset is a set of images of hadwritten digits 0-9. More details can be found on Kaggle https://www.kaggle.com/c/digit-recognizer"
   ]
  },
  {
   "cell_type": "markdown",
   "metadata": {},
   "source": [
    "### MNIST Dataset"
   ]
  },
  {
   "cell_type": "markdown",
   "metadata": {},
   "source": [
    "MNIST (\"Modified National Institute of Standards and Technology\") is the de facto “hello world” dataset of computer vision. Since its release in 1999, this classic dataset of handwritten images has served as the basis for benchmarking classification algorithms."
   ]
  },
  {
   "cell_type": "markdown",
   "metadata": {},
   "source": [
    "The goal in this competition is to take an image of a handwritten single digit, and determine what that digit is.\n",
    "For every ImageId in the test set, you should predict the correct label.\n",
    "The evaluation metric for this contest is the categorization accuracy, or the proportion of test images that are correctly classified. For example, a categorization accuracy of 0.97 indicates that you have correctly classified all but 3% of the images."
   ]
  },
  {
   "cell_type": "markdown",
   "metadata": {},
   "source": [
    "### Data representation"
   ]
  },
  {
   "cell_type": "markdown",
   "metadata": {},
   "source": [
    "The data files train.csv and test.csv contain gray-scale images of hand-drawn digits, from zero through nine.\n",
    "\n",
    "Each image is 28 pixels in height and 28 pixels in width, for a total of 784 pixels in total. Each pixel has a single pixel-value associated with it, indicating the lightness or darkness of that pixel, with higher numbers meaning darker. This pixel-value is an integer between 0 and 255, inclusive.\n",
    "\n",
    "The training dataset, (train.csv), has 785 columns. The first column, called \"label\", is the digit that was drawn by the user. The rest of the columns contain the pixel-values of the associated image.\n",
    "\n",
    "The index to the pixel on row i and column j of these 28 x 28 matrices is given by x = i * 28 + j, where i and j are integers between 0 and 27, inclusive.\n",
    "\n",
    "The test dataset, (test.csv), is the same as the training set, except that it does not contain the \"label\" column.\n",
    "\n",
    "The training dataset contains 42000 and the test dataset contains 28000 entries."
   ]
  },
  {
   "cell_type": "markdown",
   "metadata": {},
   "source": [
    "### Classification algorithms"
   ]
  },
  {
   "cell_type": "markdown",
   "metadata": {},
   "source": [
    "We will train and compare the performance of Random Forests, Support Vector Machines, and Nearest Neighbors classifiers using the scikit-learn library.\n",
    "\n",
    "We will use the 28x28=784 dimensional vectors in the intensity space as features in all three cases."
   ]
  },
  {
   "cell_type": "markdown",
   "metadata": {},
   "source": [
    "### Python modules"
   ]
  },
  {
   "cell_type": "markdown",
   "metadata": {},
   "source": [
    "All the classifiers are imported from scikit-learn. \n",
    "We will also import csv inorder to read and access the csv data files.\n",
    "For visualization, we will use numpy and matplotlib."
   ]
  },
  {
   "cell_type": "code",
   "execution_count": 69,
   "metadata": {
    "collapsed": true
   },
   "outputs": [],
   "source": [
    "import numpy as np\n",
    "import csv\n",
    "import matplotlib.pyplot as plt\n",
    "from sklearn import cross_validation\n",
    "from sklearn.ensemble import RandomForestClassifier\n",
    "from sklearn.svm import LinearSVC\n",
    "from sklearn.neighbors import KNeighborsClassifier\n",
    "from sklearn.metrics import accuracy_score"
   ]
  },
  {
   "cell_type": "markdown",
   "metadata": {},
   "source": [
    "### Preparing data"
   ]
  },
  {
   "cell_type": "markdown",
   "metadata": {},
   "source": [
    "We use python cvs module to load the csv data files.\n",
    "\n",
    "The MNIST csv files are in the following format:\n",
    "digit label, pixel_r1_c1, pixel_r1_c2, ...\n",
    "\n",
    "We do not use the test dataset since test.csv doesn't have the label field. Instead, we will split the training set into a training and a validation set to evaluate the performance.\n",
    "\n",
    "As the dataset is rather large (42000 training entries), we split the training set and set aside 1/10th of the training data for validation."
   ]
  },
  {
   "cell_type": "code",
   "execution_count": 197,
   "metadata": {
    "collapsed": false
   },
   "outputs": [],
   "source": [
    "# A helper class to load the MNIST train/test data/label and to visualize them\n",
    "class mnist:\n",
    "    # We'll do everything in the class constructor routine\n",
    "    # basedirectory: The directory containing train.csv\n",
    "    def __init__(self,basedirectory):\n",
    "        # our prior knowledge\n",
    "        self.height = 28\n",
    "        self.width = 28\n",
    "        # data placeholder\n",
    "        data = []\n",
    "        label = []\n",
    "        \n",
    "        # We can use python with statement to open a file, process its contents, and make sure it's closed\n",
    "        with open(basedirectory+'train.csv', 'r') as csv_file:\n",
    "            # read and discard the csv header row (first line)\n",
    "            next(csv_file)\n",
    "            # Read the rest, one line at a time\n",
    "            for line in csv.reader(csv_file):\n",
    "                # Separating the image data from the labels\n",
    "                # The first column is the label                \n",
    "                label.append(int(line[0]))\n",
    "                # The rest of columns are pixels\n",
    "                pixels = line[1:]\n",
    "                # We also normalize the pixel intensities between [0,1]\n",
    "                data.append( np.array(pixels, dtype='float32')/255. )\n",
    "        # Spliting the training data into training and validation sets\n",
    "        # We'll use the cross_validation from the sklearn module\n",
    "        Xtrain,Xval,ytrain,yval = cross_validation.train_test_split(data,label,test_size=0.1)\n",
    "        # make the data public\n",
    "        self.Xtrain = Xtrain\n",
    "        self.ytrain = ytrain\n",
    "        self.Ntrain = len(Xtrain)\n",
    "        self.Xval = Xval\n",
    "        self.yval = yval\n",
    "        self.Nval = len(Xval)\n",
    "     \n",
    "    # Displays N images for each digit from the training set\n",
    "    def demo(self,N):\n",
    "        # keeps track of the number of plotted images for each digit\n",
    "        nplot = np.zeros(10)\n",
    "        # Go through all images\n",
    "        for n in range(self.Ntrain):        \n",
    "            # get the digit label\n",
    "            digit = self.ytrain[n]\n",
    "            # Check the number of plotted images for the digit\n",
    "            if nplot[digit] < N:\n",
    "                nplot[digit] = nplot[digit] + 1\n",
    "                # read and reshape the digit image\n",
    "                img = self.Xtrain[n].reshape((self.height,self.width))\n",
    "                # compute the subplot id\n",
    "                plotID = N * digit + nplot[digit]\n",
    "                # plot\n",
    "                plt.subplot(10,N,plotID),plt.imshow(img, cmap='gray')\n",
    "                plt.xticks([]), plt.yticks([])\n",
    "                \n",
    "            # break if done\n",
    "            if nplot.min() == N:\n",
    "                break\n",
    "        # Display\n",
    "        plt.show()        "
   ]
  },
  {
   "cell_type": "code",
   "execution_count": 198,
   "metadata": {
    "collapsed": false
   },
   "outputs": [],
   "source": [
    "# Load the MNIST dataset\n",
    "Dataset = mnist('./')"
   ]
  },
  {
   "cell_type": "code",
   "execution_count": 130,
   "metadata": {
    "collapsed": false
   },
   "outputs": [
    {
     "data": {
      "image/png": "[encoded data removed]",
      "text/plain": [
       "<matplotlib.figure.Figure at 0x19182054eb8>"
      ]
     },
     "metadata": {},
     "output_type": "display_data"
    }
   ],
   "source": [
    "# Display N images for each digit\n",
    "Dataset.demo(20)"
   ]
  },
  {
   "cell_type": "markdown",
   "metadata": {},
   "source": [
    "## Random Forest"
   ]
  },
  {
   "cell_type": "markdown",
   "metadata": {},
   "source": [
    "We'll use RandomForestClassifier from sklearn."
   ]
  },
  {
   "cell_type": "markdown",
   "metadata": {},
   "source": [
    "RandomForestClassifier(n_estimators=10, criterion='gini', max_depth=None, min_samples_split=2, min_samples_leaf=1, max_features='auto', max_leaf_nodes=None, min_impurity_split=1e-07, n_jobs=1)"
   ]
  },
  {
   "cell_type": "markdown",
   "metadata": {},
   "source": [
    "n_estimators: The number of trees in the forest.\n",
    "\n",
    "criterion: The measure of the quality of a split. “gini” for the Gini impurity and “entropy” for the information gain\n",
    "\n",
    "max_depth: The maximum depth of the tree. If None, then nodes are expanded until all leaves are pure or until all leaves contain less than min_samples_split samples.\n",
    "\n",
    "min_samples_split: The minimum number of samples required to split a node.\n",
    "\n",
    "min_samples_leaf: The minimum number of samples required to be at a leaf node.\n",
    "\n",
    "max_features: The number of features to consider when looking for the best split. If “auto”, then max_features = sqrt(n_features).\n",
    "\n",
    "max_leaf_nodes: If None then unlimited number of leaf nodes.\n",
    "\n",
    "min_impurity_split: Threshold for early stopping in tree growth. A node will split if its impurity is above the threshold, otherwise it is a leaf.\n",
    "\n",
    "n_jobs: The number of jobs to run in parallel for both fit and predict. If -1, then the number of jobs is set to the number of cores."
   ]
  },
  {
   "cell_type": "code",
   "execution_count": 120,
   "metadata": {
    "collapsed": false
   },
   "outputs": [
    {
     "name": "stdout",
     "output_type": "stream",
     "text": [
      "random forest accuracy:  94.4761904762\n"
     ]
    }
   ],
   "source": [
    "# Create an sklearn.ensemble.RandomForestClassifier object\n",
    "randomforest = RandomForestClassifier(n_estimators=10, n_jobs=-1)\n",
    "# Train using the training set\n",
    "randomforest.fit(Dataset.Xtrain, Dataset.ytrain)\n",
    "# Predict the labels for the validation set\n",
    "ypred = randomforest.predict(Dataset.Xval)\n",
    "# Compute the prediction accuracy (%) using the accuracy_score module of the sklearn.metrics\n",
    "accuracy = accuracy_score(Dataset.yval,ypred) * 100\n",
    "print(\"random forest accuracy: \", accuracy) "
   ]
  },
  {
   "cell_type": "markdown",
   "metadata": {},
   "source": [
    "Let's plot the accuracy for different number of trees (note that it takes a while):"
   ]
  },
  {
   "cell_type": "code",
   "execution_count": 125,
   "metadata": {
    "collapsed": false
   },
   "outputs": [
    {
     "data": {
      "image/png": "[encoded data removed]",
      "text/plain": [
       "<matplotlib.figure.Figure at 0x19182aaa710>"
      ]
     },
     "metadata": {},
     "output_type": "display_data"
    }
   ],
   "source": [
    "T = np.array([1,2,3,4,5,6,8,10,15,20,25,30,40,50,60,70,80,90,100,120,150,200])\n",
    "accuracy = np.zeros(T.shape[0])\n",
    "for i in range(T.shape[0]):\n",
    "    # Create an sklearn.ensemble.RandomForestClassifier object\n",
    "    randomforest = RandomForestClassifier(n_estimators=T[i], n_jobs=-1)\n",
    "    # Train using the training set\n",
    "    randomforest.fit(Dataset.Xtrain, Dataset.ytrain)\n",
    "    # Predict the labels for the validation set\n",
    "    ypred = randomforest.predict(Dataset.Xval)\n",
    "    # Compute the prediction accuracy (%) using the accuracy_score module of the sklearn.metrics\n",
    "    accuracy[i] = accuracy_score(Dataset.yval,ypred) * 100\n",
    "    \n",
    "# Plot the result\n",
    "plt.plot(T,accuracy)\n",
    "plt.title('random forest accuracy'),plt.xlabel('Number of trees'),plt.ylabel('accuracy(%)')\n",
    "plt.show()"
   ]
  },
  {
   "cell_type": "markdown",
   "metadata": {},
   "source": [
    "## Support Vector Machine"
   ]
  },
  {
   "cell_type": "markdown",
   "metadata": {},
   "source": [
    "We'll use LinearSVC from sklearn.svm.\n",
    "\n",
    "Note that the fit time complexity is more than quadratic with the number of samples which makes it hard to scale to dataset with more than a couple of 10000 samples."
   ]
  },
  {
   "cell_type": "markdown",
   "metadata": {},
   "source": [
    "SVC(C=1.0, kernel='rbf', degree=3, gamma='auto', coef0=0.0, tol=0.001, max_iter=-1)"
   ]
  },
  {
   "cell_type": "markdown",
   "metadata": {},
   "source": [
    "C: Penalty parameter C of the error term.\n",
    "\n",
    "kernel: The kernel type to be used. It must be one of ‘linear’, ‘poly’, ‘rbf’, ‘sigmoid’ or ‘precomputed’. \n",
    "\n",
    "degree: Degree of the polynomial kernel function (‘poly’). Ignored by all other kernels.\n",
    "\n",
    "gamma: Kernel coefficient for ‘rbf’, ‘poly’ and ‘sigmoid’. If gamma is ‘auto’ then 1/n_features will be used instead.\n",
    "\n",
    "coef0: Independent term in kernel function. It is only significant in ‘poly’ and ‘sigmoid’.\n",
    "\n",
    "tol: Tolerance for stopping criterion. \n",
    "\n",
    "max_iter: Hard limit on iterations within solver, or -1 for no limit."
   ]
  },
  {
   "cell_type": "code",
   "execution_count": 123,
   "metadata": {
    "collapsed": false
   },
   "outputs": [
    {
     "name": "stdout",
     "output_type": "stream",
     "text": [
      "SVM accuracy:  91.4047619048\n"
     ]
    }
   ],
   "source": [
    "# Create an sklearn.svm.LinearSVC object\n",
    "svm = LinearSVC()\n",
    "# Train using the training set\n",
    "svm.fit(Dataset.Xtrain, Dataset.ytrain)\n",
    "# Predict the labels for the validation set\n",
    "ypred = svm.predict(Dataset.Xval)\n",
    "# Compute the prediction accuracy (%) using the accuracy_score module of the sklearn.metrics\n",
    "accuracy = accuracy_score(Dataset.yval,ypred) * 100\n",
    "print(\"SVM accuracy: \", accuracy) "
   ]
  },
  {
   "cell_type": "markdown",
   "metadata": {},
   "source": [
    "## Nearest Neighbors"
   ]
  },
  {
   "cell_type": "markdown",
   "metadata": {},
   "source": [
    "We'll use KNeighborsClassifier from sklearn.neighbors."
   ]
  },
  {
   "cell_type": "markdown",
   "metadata": {},
   "source": [
    "KNeighborsClassifier(n_neighbors=5, weights='uniform', algorithm='auto', leaf_size=30, p=2, n_jobs=1)"
   ]
  },
  {
   "cell_type": "markdown",
   "metadata": {},
   "source": [
    "n_neighbors: Number of neighbors to use.\n",
    "\n",
    "weights: Weight function used in prediction. ‘uniform’ : uniform weights. All points in each neighborhood are weighted equally. ‘distance’ : weight points by the inverse of their distance.\n",
    "\n",
    "algorithm: Algorithm used to compute the nearest neighbors. ‘brute’ will use a brute-force search.  ‘ball_tree’ will use BallTree. ‘kd_tree’ will use KDTree. 'auto’ will attempt to decide the most appropriate algorithm based on the values passed to fit method.\n",
    "\n",
    "leaf_size: Leaf size passed to BallTree or KDTree.\n",
    "\n",
    "p: Power parameter for the distance metric. When p = 1, this is equivalent to using manhattan_distance (l1), and euclidean_distance (l2) for p = 2. For arbitrary p, minkowski_distance (l_p) is used.\n",
    "\n",
    "n_jobs: The number of parallel jobs to run for neighbors search. If -1, then the number of jobs is set to the number of CPU cores. Doesn’t affect fit method.\n",
    "\n",
    "Note that it is much slower than the algorithms above."
   ]
  },
  {
   "cell_type": "code",
   "execution_count": 127,
   "metadata": {
    "collapsed": false
   },
   "outputs": [
    {
     "name": "stdout",
     "output_type": "stream",
     "text": [
      "KNN accuracy:  97.0238095238\n"
     ]
    }
   ],
   "source": [
    "# Create an sklearn.neighbors.KNeighborsClassifier object\n",
    "knn = KNeighborsClassifier(algorithm='brute')\n",
    "# Train using the training set\n",
    "knn.fit(Dataset.Xtrain, Dataset.ytrain)\n",
    "# Predict the labels for the validation set\n",
    "ypred = knn.predict(Dataset.Xval)\n",
    "# Compute the prediction accuracy (%) using the accuracy_score module of the sklearn.metrics\n",
    "accuracy = accuracy_score(Dataset.yval,ypred) * 100\n",
    "print(\"KNN accuracy: \", accuracy)"
   ]
  },
  {
   "cell_type": "markdown",
   "metadata": {},
   "source": [
    "# Exploration of Dimensionality Reduction"
   ]
  },
  {
   "cell_type": "markdown",
   "metadata": {},
   "source": [
    "Since each image has 28 by 28 pixels, we get a 28x28 array. We can flatten each array into a 28∗28=784 dimensional vector. Each component of the vector is a value between zero and one describing the intensity of the pixel. Thus, we generally think of MNIST as being a collection of 784-dimensional vectors.\n",
    "\n",
    "Not all vectors in this 784-dimensional space are MNIST digits. Typical points in this space are very different (imagine an space of possible 28x28 gray-scaled images).\n",
    "\n",
    "Images like MNIST digits are very rare. While the MNIST data points are embedded in 784-dimensional space, they live in a very small subspace. With some slightly harder arguments, we can see that they occupy a lower dimensional subspace.\n",
    "\n",
    "Let's apply PCA to find a suitable low-dimensional subspace to represent the digits.\n"
   ]
  },
  {
   "cell_type": "code",
   "execution_count": 184,
   "metadata": {
    "collapsed": false
   },
   "outputs": [],
   "source": [
    "import cv2\n",
    "\n",
    "# Create a feature matrix\n",
    "D = Dataset.height * Dataset.width\n",
    "A = np.empty((Dataset.Ntrain, D), dtype=np.float32)\n",
    "for i in range(Dataset.Ntrain):\n",
    "    A[i,:] = Dataset.Xtrain[i]\n",
    "\n",
    "# Compute the mean digit\n",
    "meanDigit = np.mean(A, axis=0)\n",
    "\n",
    "# Subtract the mean digit from each feature vector\n",
    "A = A - meanDigit  \n",
    "\n",
    "# Calc the covariance matrix (DxD)\n",
    "C = A.transpose().dot(A)\n",
    "\n",
    "# Find the eigenvectors/eigenvalues of C\n",
    "retval, eigenVal, eigenVec = cv2.eigen(C)\n",
    "\n",
    "# Normalize the L2 norm of each Eigenvector\n",
    "for i in range(eigenVec.shape[0]):\n",
    "    eigenVec[i,:] = cv2.normalize(eigenVec[i,:],0,1,cv2.NORM_L2).flatten()"
   ]
  },
  {
   "cell_type": "code",
   "execution_count": 185,
   "metadata": {
    "collapsed": false
   },
   "outputs": [
    {
     "data": {
      "image/png": "[encoded data removed]",
      "text/plain": [
       "<matplotlib.figure.Figure at 0x19181a1eef0>"
      ]
     },
     "metadata": {},
     "output_type": "display_data"
    },
    {
     "data": {
      "image/png": "[encoded data removed]",
      "text/plain": [
       "<matplotlib.figure.Figure at 0x19181a8ba20>"
      ]
     },
     "metadata": {},
     "output_type": "display_data"
    }
   ],
   "source": [
    "# Display the mean digit\n",
    "plt.imshow(meanDigit.reshape((Dataset.height,Dataset.width)), cmap='gray'),plt.title(\"mean digit\")\n",
    "plt.xticks([]), plt.yticks([])\n",
    "plt.show()\n",
    "\n",
    "# Display eigen digits\n",
    "for i in range(10):\n",
    "    plt.subplot(2,5,i+1),plt.imshow(eigenVec[i,:].reshape((Dataset.height,Dataset.width)), cmap='gray'), plt.title(str(i+1))\n",
    "    plt.xticks([]), plt.yticks([])\n",
    "plt.show()"
   ]
  },
  {
   "cell_type": "markdown",
   "metadata": {},
   "source": [
    "The number of principal components k is determined arbitrarily by setting a threshold ε on the total variance.\n",
    "Total variance v=n(lambda1+lambda2+...+lambdan), n = number of data images.\n",
    "\n",
    "k is the smallest number satisfies n(lambda1+lambda2+...+lambdak)/v > ε."
   ]
  },
  {
   "cell_type": "code",
   "execution_count": 203,
   "metadata": {
    "collapsed": false
   },
   "outputs": [
    {
     "data": {
      "image/png": "[encoded data removed]",
      "text/plain": [
       "<matplotlib.figure.Figure at 0x19182c10630>"
      ]
     },
     "metadata": {},
     "output_type": "display_data"
    },
    {
     "name": "stdout",
     "output_type": "stream",
     "text": [
      "K:  87.0\n"
     ]
    }
   ],
   "source": [
    "I = np.zeros(eigenVal.shape[0])\n",
    "T = np.zeros(eigenVal.shape[0])\n",
    "v = Dataset.Ntrain * eigenVal.sum()\n",
    "for i in range(eigenVal.shape[0]):\n",
    "    I[i] = i\n",
    "    T[i]= Dataset.Ntrain * eigenVal[0:i].sum() / v\n",
    "\n",
    "# Plot the result\n",
    "plt.plot(I,T)\n",
    "plt.show()    \n",
    "\n",
    "# Thresholding\n",
    "thresh = 0.90\n",
    "T[T < thresh] = 0\n",
    "K = I[np.nonzero(T)[0][0]]\n",
    "print('K: ',K)"
   ]
  },
  {
   "cell_type": "markdown",
   "metadata": {},
   "source": [
    "Computing the projection of all images in the subspace:"
   ]
  },
  {
   "cell_type": "code",
   "execution_count": null,
   "metadata": {
    "collapsed": false
   },
   "outputs": [],
   "source": [
    "eigenVec = eigenVec[0:K]\n",
    "for i in range(Dataset.Ntrain):       \n",
    "    # Project the image to the Eigen space\n",
    "    Dataset.Xtrain[i] = (Dataset.Xtrain[i] - meanDigit).dot(eigenVec.transpose()) \n",
    "    \n",
    "for i in range(Dataset.Nval):       \n",
    "    # Project the image to the Eigen space\n",
    "    Dataset.Xval[i] = (Dataset.Xval[i] - meanDigit).dot(eigenVec.transpose())     "
   ]
  }
 ],
 "metadata": {
  "anaconda-cloud": {},
  "kernelspec": {
   "display_name": "Python [default]",
   "language": "python",
   "name": "python3"
  },
  "language_info": {
   "codemirror_mode": {
    "name": "ipython",
    "version": 3
   },
   "file_extension": ".py",
   "mimetype": "text/x-python",
   "name": "python",
   "nbconvert_exporter": "python",
   "pygments_lexer": "ipython3",
   "version": "3.5.2"
  }
 },
 "nbformat": 4,
 "nbformat_minor": 1
}
